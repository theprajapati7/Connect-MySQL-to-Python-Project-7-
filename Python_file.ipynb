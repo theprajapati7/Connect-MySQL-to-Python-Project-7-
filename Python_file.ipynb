{
 "cells": [
  {
   "cell_type": "code",
   "execution_count": 92,
   "id": "b9502d41-e7f1-45e9-983c-0e3977dea445",
   "metadata": {},
   "outputs": [
    {
     "name": "stdout",
     "output_type": "stream",
     "text": [
      "Requirement already satisfied: mysql-connector-python in c:\\users\\hp\\anaconda3\\lib\\site-packages (9.3.0)\n"
     ]
    }
   ],
   "source": [
    "!pip install mysql-connector-python\n"
   ]
  },
  {
   "cell_type": "code",
   "execution_count": 93,
   "id": "f96c1102-55e5-4d01-9bf9-dd98dc3f56ce",
   "metadata": {},
   "outputs": [],
   "source": [
    "import pandas as pd\n",
    "import matplotlib.pyplot as plt\n",
    "import seaborn as sns"
   ]
  },
  {
   "cell_type": "code",
   "execution_count": 145,
   "id": "7f58bec2-01c1-4687-be11-05a7b68a5d95",
   "metadata": {},
   "outputs": [],
   "source": [
    "import mysql.connector"
   ]
  },
  {
   "cell_type": "code",
   "execution_count": 147,
   "id": "1df44bfd-a70f-4adf-8123-39860a03a3e4",
   "metadata": {},
   "outputs": [],
   "source": [
    "conn = mysql.connector.connect(host = \"localhost\",\n",
    "                               user = \"root\",\n",
    "                               password = \"11223344\",\n",
    "                               database = \"sales_data\")"
   ]
  },
  {
   "cell_type": "code",
   "execution_count": 148,
   "id": "85a93cf6-48c7-4347-937d-3c959bf05e0e",
   "metadata": {},
   "outputs": [],
   "source": [
    "query = \"select * from sales_data\""
   ]
  },
  {
   "cell_type": "code",
   "execution_count": 97,
   "id": "f0bf6d9f-3542-4a67-9eca-2735c9ea220d",
   "metadata": {},
   "outputs": [
    {
     "name": "stderr",
     "output_type": "stream",
     "text": [
      "C:\\Users\\HP\\AppData\\Local\\Temp\\ipykernel_10712\\785092515.py:1: UserWarning: pandas only supports SQLAlchemy connectable (engine/connection) or database string URI or sqlite3 DBAPI2 connection. Other DBAPI2 objects are not tested. Please consider using SQLAlchemy.\n",
      "  df = pd.read_sql(query,conn)\n"
     ]
    }
   ],
   "source": [
    "df = pd.read_sql(query,conn)"
   ]
  },
  {
   "cell_type": "code",
   "execution_count": 105,
   "id": "7e1ff294-acc9-42d4-b1d7-5f83fe2f7998",
   "metadata": {},
   "outputs": [
    {
     "data": {
      "text/html": [
       "<div>\n",
       "<style scoped>\n",
       "    .dataframe tbody tr th:only-of-type {\n",
       "        vertical-align: middle;\n",
       "    }\n",
       "\n",
       "    .dataframe tbody tr th {\n",
       "        vertical-align: top;\n",
       "    }\n",
       "\n",
       "    .dataframe thead th {\n",
       "        text-align: right;\n",
       "    }\n",
       "</style>\n",
       "<table border=\"1\" class=\"dataframe\">\n",
       "  <thead>\n",
       "    <tr style=\"text-align: right;\">\n",
       "      <th></th>\n",
       "      <th>order_id</th>\n",
       "      <th>product</th>\n",
       "      <th>category</th>\n",
       "      <th>quantity</th>\n",
       "      <th>price</th>\n",
       "      <th>order_date</th>\n",
       "      <th>customer_name</th>\n",
       "      <th>region</th>\n",
       "    </tr>\n",
       "  </thead>\n",
       "  <tbody>\n",
       "    <tr>\n",
       "      <th>0</th>\n",
       "      <td>1001</td>\n",
       "      <td>Headphones</td>\n",
       "      <td>Electronics</td>\n",
       "      <td>3</td>\n",
       "      <td>80</td>\n",
       "      <td>2024-10-24</td>\n",
       "      <td>Penny Green</td>\n",
       "      <td>South</td>\n",
       "    </tr>\n",
       "    <tr>\n",
       "      <th>1</th>\n",
       "      <td>1002</td>\n",
       "      <td>Smartphone</td>\n",
       "      <td>Electronics</td>\n",
       "      <td>12</td>\n",
       "      <td>300</td>\n",
       "      <td>2025-02-09</td>\n",
       "      <td>Terry Marshall</td>\n",
       "      <td>South</td>\n",
       "    </tr>\n",
       "    <tr>\n",
       "      <th>2</th>\n",
       "      <td>1003</td>\n",
       "      <td>Laptop</td>\n",
       "      <td>Electronics</td>\n",
       "      <td>12</td>\n",
       "      <td>750</td>\n",
       "      <td>2024-12-01</td>\n",
       "      <td>Christine James</td>\n",
       "      <td>West</td>\n",
       "    </tr>\n",
       "    <tr>\n",
       "      <th>3</th>\n",
       "      <td>1004</td>\n",
       "      <td>Laptop</td>\n",
       "      <td>Electronics</td>\n",
       "      <td>10</td>\n",
       "      <td>750</td>\n",
       "      <td>2025-03-18</td>\n",
       "      <td>Christopher Martin</td>\n",
       "      <td>South</td>\n",
       "    </tr>\n",
       "    <tr>\n",
       "      <th>4</th>\n",
       "      <td>1005</td>\n",
       "      <td>Laptop</td>\n",
       "      <td>Electronics</td>\n",
       "      <td>9</td>\n",
       "      <td>750</td>\n",
       "      <td>2024-11-05</td>\n",
       "      <td>Tyler Brown</td>\n",
       "      <td>West</td>\n",
       "    </tr>\n",
       "    <tr>\n",
       "      <th>...</th>\n",
       "      <td>...</td>\n",
       "      <td>...</td>\n",
       "      <td>...</td>\n",
       "      <td>...</td>\n",
       "      <td>...</td>\n",
       "      <td>...</td>\n",
       "      <td>...</td>\n",
       "      <td>...</td>\n",
       "    </tr>\n",
       "    <tr>\n",
       "      <th>95</th>\n",
       "      <td>1096</td>\n",
       "      <td>Printer</td>\n",
       "      <td>Electronics</td>\n",
       "      <td>16</td>\n",
       "      <td>150</td>\n",
       "      <td>2024-12-04</td>\n",
       "      <td>Joshua Lawrence</td>\n",
       "      <td>East</td>\n",
       "    </tr>\n",
       "    <tr>\n",
       "      <th>96</th>\n",
       "      <td>1097</td>\n",
       "      <td>Smartphone</td>\n",
       "      <td>Electronics</td>\n",
       "      <td>8</td>\n",
       "      <td>300</td>\n",
       "      <td>2025-04-04</td>\n",
       "      <td>Diane Arroyo</td>\n",
       "      <td>North</td>\n",
       "    </tr>\n",
       "    <tr>\n",
       "      <th>97</th>\n",
       "      <td>1098</td>\n",
       "      <td>Smartphone</td>\n",
       "      <td>Electronics</td>\n",
       "      <td>15</td>\n",
       "      <td>300</td>\n",
       "      <td>2025-01-31</td>\n",
       "      <td>Nancy Watson</td>\n",
       "      <td>South</td>\n",
       "    </tr>\n",
       "    <tr>\n",
       "      <th>98</th>\n",
       "      <td>1099</td>\n",
       "      <td>Office Table</td>\n",
       "      <td>Furniture</td>\n",
       "      <td>9</td>\n",
       "      <td>350</td>\n",
       "      <td>2025-03-25</td>\n",
       "      <td>Christy Velazquez</td>\n",
       "      <td>North</td>\n",
       "    </tr>\n",
       "    <tr>\n",
       "      <th>99</th>\n",
       "      <td>1100</td>\n",
       "      <td>Laptop</td>\n",
       "      <td>Electronics</td>\n",
       "      <td>15</td>\n",
       "      <td>750</td>\n",
       "      <td>2024-12-11</td>\n",
       "      <td>Kimberly Flores</td>\n",
       "      <td>South</td>\n",
       "    </tr>\n",
       "  </tbody>\n",
       "</table>\n",
       "<p>100 rows × 8 columns</p>\n",
       "</div>"
      ],
      "text/plain": [
       "    order_id       product     category  quantity  price  order_date  \\\n",
       "0       1001    Headphones  Electronics         3     80  2024-10-24   \n",
       "1       1002    Smartphone  Electronics        12    300  2025-02-09   \n",
       "2       1003        Laptop  Electronics        12    750  2024-12-01   \n",
       "3       1004        Laptop  Electronics        10    750  2025-03-18   \n",
       "4       1005        Laptop  Electronics         9    750  2024-11-05   \n",
       "..       ...           ...          ...       ...    ...         ...   \n",
       "95      1096       Printer  Electronics        16    150  2024-12-04   \n",
       "96      1097    Smartphone  Electronics         8    300  2025-04-04   \n",
       "97      1098    Smartphone  Electronics        15    300  2025-01-31   \n",
       "98      1099  Office Table    Furniture         9    350  2025-03-25   \n",
       "99      1100        Laptop  Electronics        15    750  2024-12-11   \n",
       "\n",
       "         customer_name region  \n",
       "0          Penny Green  South  \n",
       "1       Terry Marshall  South  \n",
       "2      Christine James   West  \n",
       "3   Christopher Martin  South  \n",
       "4          Tyler Brown   West  \n",
       "..                 ...    ...  \n",
       "95     Joshua Lawrence   East  \n",
       "96        Diane Arroyo  North  \n",
       "97        Nancy Watson  South  \n",
       "98   Christy Velazquez  North  \n",
       "99     Kimberly Flores  South  \n",
       "\n",
       "[100 rows x 8 columns]"
      ]
     },
     "execution_count": 105,
     "metadata": {},
     "output_type": "execute_result"
    }
   ],
   "source": [
    "df"
   ]
  },
  {
   "cell_type": "code",
   "execution_count": 107,
   "id": "c2c9fcca-8d57-4609-9d8c-56604a3de6ff",
   "metadata": {},
   "outputs": [
    {
     "data": {
      "text/html": [
       "<div>\n",
       "<style scoped>\n",
       "    .dataframe tbody tr th:only-of-type {\n",
       "        vertical-align: middle;\n",
       "    }\n",
       "\n",
       "    .dataframe tbody tr th {\n",
       "        vertical-align: top;\n",
       "    }\n",
       "\n",
       "    .dataframe thead th {\n",
       "        text-align: right;\n",
       "    }\n",
       "</style>\n",
       "<table border=\"1\" class=\"dataframe\">\n",
       "  <thead>\n",
       "    <tr style=\"text-align: right;\">\n",
       "      <th></th>\n",
       "      <th>order_id</th>\n",
       "      <th>product</th>\n",
       "      <th>category</th>\n",
       "      <th>quantity</th>\n",
       "      <th>price</th>\n",
       "      <th>order_date</th>\n",
       "      <th>customer_name</th>\n",
       "      <th>region</th>\n",
       "    </tr>\n",
       "  </thead>\n",
       "  <tbody>\n",
       "    <tr>\n",
       "      <th>0</th>\n",
       "      <td>1001</td>\n",
       "      <td>Headphones</td>\n",
       "      <td>Electronics</td>\n",
       "      <td>3</td>\n",
       "      <td>80</td>\n",
       "      <td>2024-10-24</td>\n",
       "      <td>Penny Green</td>\n",
       "      <td>South</td>\n",
       "    </tr>\n",
       "    <tr>\n",
       "      <th>1</th>\n",
       "      <td>1002</td>\n",
       "      <td>Smartphone</td>\n",
       "      <td>Electronics</td>\n",
       "      <td>12</td>\n",
       "      <td>300</td>\n",
       "      <td>2025-02-09</td>\n",
       "      <td>Terry Marshall</td>\n",
       "      <td>South</td>\n",
       "    </tr>\n",
       "    <tr>\n",
       "      <th>2</th>\n",
       "      <td>1003</td>\n",
       "      <td>Laptop</td>\n",
       "      <td>Electronics</td>\n",
       "      <td>12</td>\n",
       "      <td>750</td>\n",
       "      <td>2024-12-01</td>\n",
       "      <td>Christine James</td>\n",
       "      <td>West</td>\n",
       "    </tr>\n",
       "    <tr>\n",
       "      <th>3</th>\n",
       "      <td>1004</td>\n",
       "      <td>Laptop</td>\n",
       "      <td>Electronics</td>\n",
       "      <td>10</td>\n",
       "      <td>750</td>\n",
       "      <td>2025-03-18</td>\n",
       "      <td>Christopher Martin</td>\n",
       "      <td>South</td>\n",
       "    </tr>\n",
       "    <tr>\n",
       "      <th>4</th>\n",
       "      <td>1005</td>\n",
       "      <td>Laptop</td>\n",
       "      <td>Electronics</td>\n",
       "      <td>9</td>\n",
       "      <td>750</td>\n",
       "      <td>2024-11-05</td>\n",
       "      <td>Tyler Brown</td>\n",
       "      <td>West</td>\n",
       "    </tr>\n",
       "  </tbody>\n",
       "</table>\n",
       "</div>"
      ],
      "text/plain": [
       "   order_id     product     category  quantity  price  order_date  \\\n",
       "0      1001  Headphones  Electronics         3     80  2024-10-24   \n",
       "1      1002  Smartphone  Electronics        12    300  2025-02-09   \n",
       "2      1003      Laptop  Electronics        12    750  2024-12-01   \n",
       "3      1004      Laptop  Electronics        10    750  2025-03-18   \n",
       "4      1005      Laptop  Electronics         9    750  2024-11-05   \n",
       "\n",
       "        customer_name region  \n",
       "0         Penny Green  South  \n",
       "1      Terry Marshall  South  \n",
       "2     Christine James   West  \n",
       "3  Christopher Martin  South  \n",
       "4         Tyler Brown   West  "
      ]
     },
     "execution_count": 107,
     "metadata": {},
     "output_type": "execute_result"
    }
   ],
   "source": [
    "df.head()"
   ]
  },
  {
   "cell_type": "code",
   "execution_count": 109,
   "id": "39992477-1228-46b4-bfa4-dd75d68fe4db",
   "metadata": {},
   "outputs": [
    {
     "data": {
      "text/html": [
       "<div>\n",
       "<style scoped>\n",
       "    .dataframe tbody tr th:only-of-type {\n",
       "        vertical-align: middle;\n",
       "    }\n",
       "\n",
       "    .dataframe tbody tr th {\n",
       "        vertical-align: top;\n",
       "    }\n",
       "\n",
       "    .dataframe thead th {\n",
       "        text-align: right;\n",
       "    }\n",
       "</style>\n",
       "<table border=\"1\" class=\"dataframe\">\n",
       "  <thead>\n",
       "    <tr style=\"text-align: right;\">\n",
       "      <th></th>\n",
       "      <th>order_id</th>\n",
       "      <th>product</th>\n",
       "      <th>category</th>\n",
       "      <th>quantity</th>\n",
       "      <th>price</th>\n",
       "      <th>order_date</th>\n",
       "      <th>customer_name</th>\n",
       "      <th>region</th>\n",
       "    </tr>\n",
       "  </thead>\n",
       "  <tbody>\n",
       "    <tr>\n",
       "      <th>95</th>\n",
       "      <td>1096</td>\n",
       "      <td>Printer</td>\n",
       "      <td>Electronics</td>\n",
       "      <td>16</td>\n",
       "      <td>150</td>\n",
       "      <td>2024-12-04</td>\n",
       "      <td>Joshua Lawrence</td>\n",
       "      <td>East</td>\n",
       "    </tr>\n",
       "    <tr>\n",
       "      <th>96</th>\n",
       "      <td>1097</td>\n",
       "      <td>Smartphone</td>\n",
       "      <td>Electronics</td>\n",
       "      <td>8</td>\n",
       "      <td>300</td>\n",
       "      <td>2025-04-04</td>\n",
       "      <td>Diane Arroyo</td>\n",
       "      <td>North</td>\n",
       "    </tr>\n",
       "    <tr>\n",
       "      <th>97</th>\n",
       "      <td>1098</td>\n",
       "      <td>Smartphone</td>\n",
       "      <td>Electronics</td>\n",
       "      <td>15</td>\n",
       "      <td>300</td>\n",
       "      <td>2025-01-31</td>\n",
       "      <td>Nancy Watson</td>\n",
       "      <td>South</td>\n",
       "    </tr>\n",
       "    <tr>\n",
       "      <th>98</th>\n",
       "      <td>1099</td>\n",
       "      <td>Office Table</td>\n",
       "      <td>Furniture</td>\n",
       "      <td>9</td>\n",
       "      <td>350</td>\n",
       "      <td>2025-03-25</td>\n",
       "      <td>Christy Velazquez</td>\n",
       "      <td>North</td>\n",
       "    </tr>\n",
       "    <tr>\n",
       "      <th>99</th>\n",
       "      <td>1100</td>\n",
       "      <td>Laptop</td>\n",
       "      <td>Electronics</td>\n",
       "      <td>15</td>\n",
       "      <td>750</td>\n",
       "      <td>2024-12-11</td>\n",
       "      <td>Kimberly Flores</td>\n",
       "      <td>South</td>\n",
       "    </tr>\n",
       "  </tbody>\n",
       "</table>\n",
       "</div>"
      ],
      "text/plain": [
       "    order_id       product     category  quantity  price  order_date  \\\n",
       "95      1096       Printer  Electronics        16    150  2024-12-04   \n",
       "96      1097    Smartphone  Electronics         8    300  2025-04-04   \n",
       "97      1098    Smartphone  Electronics        15    300  2025-01-31   \n",
       "98      1099  Office Table    Furniture         9    350  2025-03-25   \n",
       "99      1100        Laptop  Electronics        15    750  2024-12-11   \n",
       "\n",
       "        customer_name region  \n",
       "95    Joshua Lawrence   East  \n",
       "96       Diane Arroyo  North  \n",
       "97       Nancy Watson  South  \n",
       "98  Christy Velazquez  North  \n",
       "99    Kimberly Flores  South  "
      ]
     },
     "execution_count": 109,
     "metadata": {},
     "output_type": "execute_result"
    }
   ],
   "source": [
    "df.tail()"
   ]
  },
  {
   "cell_type": "markdown",
   "id": "d60ebced-7630-4726-ba06-e9cbc4f5b121",
   "metadata": {},
   "source": [
    "### Making plot of Quantity and Price"
   ]
  },
  {
   "cell_type": "code",
   "execution_count": 127,
   "id": "bd98c176-578d-4224-9b37-4cdf44475dbf",
   "metadata": {},
   "outputs": [
    {
     "data": {
      "text/plain": [
       "<Axes: >"
      ]
     },
     "execution_count": 127,
     "metadata": {},
     "output_type": "execute_result"
    },
    {
     "data": {
      "image/png": "[encoded data removed]",
      "text/plain": [
       "<Figure size 640x480 with 1 Axes>"
      ]
     },
     "metadata": {},
     "output_type": "display_data"
    }
   ],
   "source": [
    "df.plot()\n"
   ]
  },
  {
   "cell_type": "markdown",
   "id": "0b123405-b892-4e17-9369-1897a8cc4fba",
   "metadata": {},
   "source": [
    "### Making Plot of Revenue by Product"
   ]
  },
  {
   "cell_type": "code",
   "execution_count": 131,
   "id": "834c9ad5-de65-446e-8fbc-0a4148b942f2",
   "metadata": {},
   "outputs": [
    {
     "data": {
      "image/png": "[encoded data removed]",
      "text/plain": [
       "<Figure size 1000x600 with 1 Axes>"
      ]
     },
     "metadata": {},
     "output_type": "display_data"
    }
   ],
   "source": [
    "data = {\n",
    "    \"product\": [\"Laptop\", \"Smartphone\", \"Desk Chair\", \"Monitor\", \"Notebook\", \"Pen Set\"],\n",
    "    \"quantity\": [10, 15, 7, 12, 20, 30],\n",
    "    \"price\": [750, 300, 120, 200, 5, 2]\n",
    "}\n",
    "\n",
    "# Create DataFrame\n",
    "df = pd.DataFrame(data)\n",
    "\n",
    "# Calculate revenue\n",
    "df[\"revenue\"] = df[\"quantity\"] * df[\"price\"]\n",
    "\n",
    "# Plot bar chart\n",
    "plt.figure(figsize=(10, 6))\n",
    "plt.bar(df[\"product\"], df[\"revenue\"], color=\"skyblue\")\n",
    "plt.xlabel(\"Product\")\n",
    "plt.ylabel(\"Revenue\")\n",
    "plt.title(\"Revenue by Product\")\n",
    "plt.xticks(rotation=45)\n",
    "plt.grid(axis='y')\n",
    "plt.tight_layout()\n",
    "\n",
    "# Show chart\n",
    "plt.show()"
   ]
  },
  {
   "cell_type": "markdown",
   "id": "892a3c16-91f2-4e79-9a3b-6079ac3fa7a0",
   "metadata": {},
   "source": [
    "### Saving Image"
   ]
  },
  {
   "cell_type": "code",
   "execution_count": 139,
   "id": "c9955d8a-9f47-4cec-9ae0-9775997b7ad1",
   "metadata": {},
   "outputs": [
    {
     "data": {
      "text/plain": [
       "<Figure size 640x480 with 0 Axes>"
      ]
     },
     "metadata": {},
     "output_type": "display_data"
    }
   ],
   "source": [
    "plt.savefig(\"Plot revenue by product\")"
   ]
  },
  {
   "cell_type": "code",
   "execution_count": null,
   "id": "c61b4829-c326-4d11-8020-7e038523641f",
   "metadata": {},
   "outputs": [],
   "source": []
  }
 ],
 "metadata": {
  "kernelspec": {
   "display_name": "Python [conda env:base] *",
   "language": "python",
   "name": "conda-base-py"
  },
  "language_info": {
   "codemirror_mode": {
    "name": "ipython",
    "version": 3
   },
   "file_extension": ".py",
   "mimetype": "text/x-python",
   "name": "python",
   "nbconvert_exporter": "python",
   "pygments_lexer": "ipython3",
   "version": "3.12.7"
  }
 },
 "nbformat": 4,
 "nbformat_minor": 5
}
